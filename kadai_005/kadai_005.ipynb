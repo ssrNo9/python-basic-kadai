{
  "nbformat": 4,
  "nbformat_minor": 0,
  "metadata": {
    "colab": {
      "provenance": []
    },
    "kernelspec": {
      "name": "python3",
      "display_name": "Python 3"
    },
    "language_info": {
      "name": "python"
    }
  },
  "cells": [
    {
      "cell_type": "code",
      "execution_count": 2,
      "metadata": {
        "colab": {
          "base_uri": "https://localhost:8080/"
        },
        "id": "4lRuNBZGhJrh",
        "outputId": "aa2e723f-3cfa-4446-955d-50ff2b6e996e"
      },
      "outputs": [
        {
          "output_type": "stream",
          "name": "stdout",
          "text": [
            "上辺10cm、下辺20cm、高さ5cmの台形の面積は75.0㎠です。\n"
          ]
        }
      ],
      "source": [
        "top = 10\n",
        "under = 20\n",
        "height = 5\n",
        "answer = (top + under) * height / 2\n",
        "print(f\"上辺{top}cm、下辺{under}cm、高さ{height}cmの台形の面積は{answer}㎠です。\")"
      ]
    }
  ]
}