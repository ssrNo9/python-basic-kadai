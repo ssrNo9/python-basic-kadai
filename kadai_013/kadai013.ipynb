{
  "nbformat": 4,
  "nbformat_minor": 0,
  "metadata": {
    "colab": {
      "provenance": []
    },
    "kernelspec": {
      "name": "python3",
      "display_name": "Python 3"
    },
    "language_info": {
      "name": "python"
    }
  },
  "cells": [
    {
      "cell_type": "code",
      "execution_count": 4,
      "metadata": {
        "colab": {
          "base_uri": "https://localhost:8080/"
        },
        "id": "4alGqXc4DtQY",
        "outputId": "979fc758-ecdc-4bb7-8cee-80d7f6b02bd4"
      },
      "outputs": [
        {
          "output_type": "stream",
          "name": "stdout",
          "text": [
            "1100.0\n"
          ]
        }
      ],
      "source": [
        "def calc(price: int, tax: float) -> float:\n",
        "  total = (price + (price * tax))\n",
        "  print(total)\n",
        "\n",
        "calc(1000,0.1)"
      ]
    }
  ]
}